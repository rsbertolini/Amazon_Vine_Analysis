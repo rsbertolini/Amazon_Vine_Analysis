{
  "nbformat": 4,
  "nbformat_minor": 0,
  "metadata": {
    "colab": {
      "name": "Vine_Review_Analysis.ipynb",
      "provenance": [],
      "collapsed_sections": [],
      "authorship_tag": "ABX9TyPbjdma7vptRmgJYNb0l/rH",
      "include_colab_link": true
    },
    "kernelspec": {
      "name": "python3",
      "display_name": "Python 3"
    },
    "language_info": {
      "name": "python"
    }
  },
  "cells": [
    {
      "cell_type": "markdown",
      "metadata": {
        "id": "view-in-github",
        "colab_type": "text"
      },
      "source": [
        "<a href=\"https://colab.research.google.com/github/rsbertolini/Amazon_Vine_Analysis/blob/main/Vine_Review_Analysis.ipynb\" target=\"_parent\"><img src=\"https://colab.research.google.com/assets/colab-badge.svg\" alt=\"Open In Colab\"/></a>"
      ]
    },
    {
      "cell_type": "code",
      "execution_count": 1,
      "metadata": {
        "colab": {
          "base_uri": "https://localhost:8080/"
        },
        "id": "pgzCbHTRQMOy",
        "outputId": "39595d44-8737-43d1-b33a-f0c47a33dc8e"
      },
      "outputs": [
        {
          "output_type": "stream",
          "name": "stdout",
          "text": [
            "Get:1 https://cloud.r-project.org/bin/linux/ubuntu bionic-cran40/ InRelease [3,626 B]\n",
            "Ign:2 https://developer.download.nvidia.com/compute/cuda/repos/ubuntu1804/x86_64  InRelease\n",
            "Hit:3 http://archive.ubuntu.com/ubuntu bionic InRelease\n",
            "Get:4 http://ppa.launchpad.net/c2d4u.team/c2d4u4.0+/ubuntu bionic InRelease [15.9 kB]\n",
            "Get:5 http://security.ubuntu.com/ubuntu bionic-security InRelease [88.7 kB]\n",
            "Ign:6 https://developer.download.nvidia.com/compute/machine-learning/repos/ubuntu1804/x86_64  InRelease\n",
            "Get:7 http://archive.ubuntu.com/ubuntu bionic-updates InRelease [88.7 kB]\n",
            "Get:8 https://developer.download.nvidia.com/compute/cuda/repos/ubuntu1804/x86_64  Release [696 B]\n",
            "Hit:9 https://developer.download.nvidia.com/compute/machine-learning/repos/ubuntu1804/x86_64  Release\n",
            "Get:10 https://developer.download.nvidia.com/compute/cuda/repos/ubuntu1804/x86_64  Release.gpg [836 B]\n",
            "Hit:11 http://ppa.launchpad.net/cran/libgit2/ubuntu bionic InRelease\n",
            "Get:12 http://archive.ubuntu.com/ubuntu bionic-backports InRelease [74.6 kB]\n",
            "Get:13 http://ppa.launchpad.net/deadsnakes/ppa/ubuntu bionic InRelease [15.9 kB]\n",
            "Get:14 https://cloud.r-project.org/bin/linux/ubuntu bionic-cran40/ Packages [73.9 kB]\n",
            "Get:15 http://ppa.launchpad.net/graphics-drivers/ppa/ubuntu bionic InRelease [21.3 kB]\n",
            "Get:16 http://ppa.launchpad.net/c2d4u.team/c2d4u4.0+/ubuntu bionic/main Sources [1,822 kB]\n",
            "Get:18 https://developer.download.nvidia.com/compute/cuda/repos/ubuntu1804/x86_64  Packages [833 kB]\n",
            "Get:19 http://ppa.launchpad.net/c2d4u.team/c2d4u4.0+/ubuntu bionic/main amd64 Packages [934 kB]\n",
            "Get:20 http://security.ubuntu.com/ubuntu bionic-security/universe amd64 Packages [1,452 kB]\n",
            "Get:21 http://security.ubuntu.com/ubuntu bionic-security/main amd64 Packages [2,461 kB]\n",
            "Get:22 http://security.ubuntu.com/ubuntu bionic-security/restricted amd64 Packages [691 kB]\n",
            "Get:23 http://archive.ubuntu.com/ubuntu bionic-updates/main amd64 Packages [2,898 kB]\n",
            "Get:24 http://archive.ubuntu.com/ubuntu bionic-updates/universe amd64 Packages [2,230 kB]\n",
            "Get:25 http://archive.ubuntu.com/ubuntu bionic-backports/main amd64 Packages [11.6 kB]\n",
            "Get:26 http://archive.ubuntu.com/ubuntu bionic-backports/universe amd64 Packages [12.6 kB]\n",
            "Get:27 http://ppa.launchpad.net/deadsnakes/ppa/ubuntu bionic/main amd64 Packages [45.3 kB]\n",
            "Get:28 http://ppa.launchpad.net/graphics-drivers/ppa/ubuntu bionic/main amd64 Packages [44.7 kB]\n",
            "Fetched 13.8 MB in 5s (2,686 kB/s)\n",
            "Reading package lists... Done\n"
          ]
        }
      ],
      "source": [
        "import os\n",
        "# Find the latest version of spark 3.0 from http://www.apache.org/dist/spark/ and enter as the spark version\n",
        "# For example:\n",
        "# spark_version = 'spark-3.0.3'\n",
        "spark_version = 'spark-3.2.0'\n",
        "os.environ['SPARK_VERSION']=spark_version\n",
        "\n",
        "# Install Spark and Java\n",
        "!apt-get update\n",
        "!apt-get install openjdk-11-jdk-headless -qq > /dev/null\n",
        "!wget -q http://www.apache.org/dist/spark/$SPARK_VERSION/$SPARK_VERSION-bin-hadoop2.7.tgz\n",
        "!tar xf $SPARK_VERSION-bin-hadoop2.7.tgz\n",
        "!pip install -q findspark\n",
        "\n",
        "# Set Environment Variables\n",
        "import os\n",
        "os.environ[\"JAVA_HOME\"] = \"/usr/lib/jvm/java-11-openjdk-amd64\"\n",
        "os.environ[\"SPARK_HOME\"] = f\"/content/{spark_version}-bin-hadoop2.7\"\n",
        "\n",
        "# Start a SparkSession\n",
        "import findspark\n",
        "findspark.init()"
      ]
    },
    {
      "cell_type": "code",
      "source": [
        "from pyspark.sql import SparkSession\n",
        "spark = SparkSession.builder.appName(\"M16-Amazon-Challenge\").config(\"spark.driver.extraClassPath\",\"/content/postgresql-42.2.16.jar\").getOrCreate()"
      ],
      "metadata": {
        "id": "EBtteo_VQ5Q7"
      },
      "execution_count": 2,
      "outputs": []
    },
    {
      "cell_type": "code",
      "source": [
        "from pyspark import SparkFiles\n",
        "url = \"https://s3.amazonaws.com/amazon-reviews-pds/tsv/amazon_reviews_us_Major_Appliances_v1_00.tsv.gz\"\n",
        "spark.sparkContext.addFile(url)\n",
        "df = spark.read.option(\"encoding\", \"UTF-8\").csv(SparkFiles.get(\"amazon_reviews_us_Major_Appliances_v1_00.tsv.gz\"), sep=\"\\t\", header=True, inferSchema=True)\n",
        "df.show()"
      ],
      "metadata": {
        "colab": {
          "base_uri": "https://localhost:8080/"
        },
        "id": "ONXgAlegQmRs",
        "outputId": "4c7c3291-b4a5-4f37-d1fa-8132b34b93e8"
      },
      "execution_count": 3,
      "outputs": [
        {
          "output_type": "stream",
          "name": "stdout",
          "text": [
            "+-----------+-----------+--------------+----------+--------------+--------------------+----------------+-----------+-------------+-----------+----+-----------------+--------------------+--------------------+-----------+\n",
            "|marketplace|customer_id|     review_id|product_id|product_parent|       product_title|product_category|star_rating|helpful_votes|total_votes|vine|verified_purchase|     review_headline|         review_body|review_date|\n",
            "+-----------+-----------+--------------+----------+--------------+--------------------+----------------+-----------+-------------+-----------+----+-----------------+--------------------+--------------------+-----------+\n",
            "|         US|   16199106|R203HPW78Z7N4K|B0067WNSZY|     633038551|FGGF3032MW Galler...|Major Appliances|          5|            0|          0|   N|                Y|If you need a new...|What a great stov...| 2015-08-31|\n",
            "|         US|   16374060|R2EAIGVLEALSP3|B002QSXK60|     811766671|Best Hand Clothes...|Major Appliances|          5|            1|          1|   N|                Y|          Five Stars|        worked great| 2015-08-31|\n",
            "|         US|   15322085|R1K1CD73HHLILA|B00EC452R6|     345562728|Supco SET184 Ther...|Major Appliances|          5|            0|          0|   N|                Y|       Fast Shipping|Part exactly what...| 2015-08-31|\n",
            "|         US|   32004835|R2KZBMOFRMYOPO|B00MVVIF2G|     563052763|Midea WHS-160RB1 ...|Major Appliances|          5|            1|          1|   N|                Y|          Five Stars|Love my refrigera...| 2015-08-31|\n",
            "|         US|   25414497| R6BIZOZY6UD01|B00IY7BNUW|     874236579|Avalon Bay Portab...|Major Appliances|          5|            0|          0|   N|                Y|          Five Stars|No more running t...| 2015-08-31|\n",
            "|         US|   36311751|R1MCXZFNF8E7Y0|B0033X29CI|     294467812|Danby  Freestandi...|Major Appliances|          1|            0|          0|   N|                Y|       Piece of Junk|It would not cool...| 2015-08-31|\n",
            "|         US|   30920961|R3EMB3E3ODR6BW|B005R597HA|     183784715|Avanti 110-Volt A...|Major Appliances|          5|            2|          2|   N|                Y|Works awesome for...|Works awesome for...| 2015-08-31|\n",
            "|         US|   52491265| RJTONVTTOPJ5S|B00MO6V8Y0|     960251524|      Danby products|Major Appliances|          5|            0|          0|   N|                Y|          Five Stars|exactly what I wa...| 2015-08-31|\n",
            "|         US|   48166169|R21U5QZ2CQECUM|B00HT39QDI|     992475314|3 Pack Tier1 MSWF...|Major Appliances|          4|            0|          0|   N|                Y|          Four Stars|       AS advertised| 2015-08-31|\n",
            "|         US|   50394924| RL2BBC51H89DH|B00LESFZ52|       1641606|True TSSU-60-16 6...|Major Appliances|          4|            0|          0|   N|                Y|but has poor insu...|It works as adver...| 2015-08-31|\n",
            "|         US|    3915552|R3RNEPHF3WIRSZ|B0149IJVPI|     838108342|Magic: the Gather...|Major Appliances|          2|            0|          0|   N|                N|           Two Stars|it's not worth 22...| 2015-08-31|\n",
            "|         US|   17068589|R38DNT9KML2PF3|B002HT0958|     387104338|Mini Portable Cou...|Major Appliances|          5|            0|          0|   N|                Y| Love it for camping|Wonderful! It spi...| 2015-08-31|\n",
            "|         US|   52081068|R2ECMBJM8KNNC8|B006WOBNX6|     180688127|1 X Dishwasher Ra...|Major Appliances|          4|            0|          0|   N|                Y|          Four Stars|Did the job but d...| 2015-08-31|\n",
            "|         US|   13783713|R2F3F92PRN9T7S|B00NLPMOU0|     570132358|Watson 1.5 ft AC ...|Major Appliances|          5|            0|          0|   N|                Y|Very well satisfied.|Arrived on time a...| 2015-08-31|\n",
            "|         US|   14555366|R35XNT88XVEMK6|B00KJ07SEM|     313983847|GE MWF SmartWater...|Major Appliances|          5|            1|          1|   N|                Y|          Five Stars|               Super| 2015-08-31|\n",
            "|         US|   48417244| RZRXLHQS71FUP|B001AT2ALM|     364403440|Koldfront Ultra C...|Major Appliances|          4|            1|          1|   N|                Y|          Four Stars|Looking forward t...| 2015-08-31|\n",
            "|         US|   19010760|R3J9T4MZRAURV5|B00JG8B42K|     672722354|OnePurify RFC0800...|Major Appliances|          1|            0|          0|   N|                Y|     dont waste your|cheap knock-off. ...| 2015-08-31|\n",
            "|         US|   43532555|R3CLDHHI0ZSQLO|B00FRJ5EWS|     137548022|2016 Life Water I...|Major Appliances|          5|            1|          2|   N|                N|       Great Product|My wife is lookin...| 2015-08-31|\n",
            "|         US|   21879631| RY52KZABZK8QF|B0052G14E8|     423421857|Danby 0.7 cu.ft. ...|Major Appliances|          1|            0|          0|   N|                Y|Do not recommend ...|3 of the buttons ...| 2015-08-31|\n",
            "|         US|     810098|R25RXV5X29M3UC|B00LOVVE9A|     386722389|SPT UF-304SS Ener...|Major Appliances|          4|            0|          1|   N|                Y|          Four Stars|     So far so good.| 2015-08-31|\n",
            "+-----------+-----------+--------------+----------+--------------+--------------------+----------------+-----------+-------------+-----------+----+-----------------+--------------------+--------------------+-----------+\n",
            "only showing top 20 rows\n",
            "\n"
          ]
        }
      ]
    },
    {
      "cell_type": "code",
      "source": [
        "#filter df for total_votes >= 20\n",
        "df1 = df.filter(df.total_votes >= 20)\n",
        "df1.show()"
      ],
      "metadata": {
        "colab": {
          "base_uri": "https://localhost:8080/"
        },
        "id": "xD-roq9QRXnH",
        "outputId": "9e1416bf-f30f-4cba-f5b6-e20f7f37d7a4"
      },
      "execution_count": 4,
      "outputs": [
        {
          "output_type": "stream",
          "name": "stdout",
          "text": [
            "+-----------+-----------+--------------+----------+--------------+--------------------+----------------+-----------+-------------+-----------+----+-----------------+--------------------+--------------------+-----------+\n",
            "|marketplace|customer_id|     review_id|product_id|product_parent|       product_title|product_category|star_rating|helpful_votes|total_votes|vine|verified_purchase|     review_headline|         review_body|review_date|\n",
            "+-----------+-----------+--------------+----------+--------------+--------------------+----------------+-----------+-------------+-----------+----+-----------------+--------------------+--------------------+-----------+\n",
            "|         US|   13446431|R1QXNQBTH7LIUB|B00V03PK74|     159528888|Kalamera freestan...|Major Appliances|          3|            9|         22|   N|                Y|They claim that i...|They claim that i...| 2015-08-31|\n",
            "|         US|   36792525|R3BC75VKJK6LNV|B00RL014P2|       6980707|The Laundry Alter...|Major Appliances|          4|           83|         89|   N|                Y|Warning! Long Rev...|Where do I begin?...| 2015-08-31|\n",
            "|         US|   13254956| R5XKK92G5N9FU|B00EM2JPLW|     824392206|Samsung NE58F9500...|Major Appliances|          1|           18|         22|   N|                N|FIRE HAZARD - AVO...|FIRE HAZARD - AVO...| 2015-08-30|\n",
            "|         US|   50791387| RYMOWYW38WKOB|B00UI18U08|     846535709|LG LMXC23746S 23 ...|Major Appliances|          5|           35|         35|   N|                N|pleasant surprise...|Bought this fridg...| 2015-08-30|\n",
            "|         US|   48688660| RYHZAVESD0T37|B00IY7B5CS|     874236579|Avalon Bay Portab...|Major Appliances|          1|           39|         45|   N|                Y|             Wet ice|I really wanted t...| 2015-08-29|\n",
            "|         US|   47079055|R19Y5VBOF3BQOG|B010CE497I|     607780698|Haier HC27SW20RV ...|Major Appliances|          1|           26|         35|   N|                Y|        Product swap|It just arrived a...| 2015-08-29|\n",
            "|         US|   42769135| R8V9F3139Z1WZ|B00OI05EKE|     381662962|GE GSE25HMHES 36\"...|Major Appliances|          1|           30|         34|   N|                N|SHAME ON GE, low ...|STAY AWAY from GE...| 2015-08-29|\n",
            "|         US|   51579138|R3RNY5OLY451GS|B00LIAP2ZY|     545041103|LG WM3997HWA Vent...|Major Appliances|          1|           25|         30|   N|                Y|Drying did not work.|I really wanted t...| 2015-08-28|\n",
            "|         US|   13663272|R16LPVYSJOAH1T|B00MHY0B9C|     144125671|DMAFRIGFGID2466QF...|Major Appliances|          1|           20|         20|   N|                N|Broke in the firs...|This appliance is...| 2015-08-27|\n",
            "|         US|   25345755|R2NLL7ISMM5QYQ|B00E8KC36M|     754165796|Kitchen Bath Coll...|Major Appliances|          4|           89|         94|   N|                Y|  We love it, but...|When it arrived, ...| 2015-08-27|\n",
            "|         US|   52082261|R3FAFI6Q0YL37W|B00KJ07SEM|     313983847|GE MWF SmartWater...|Major Appliances|          1|           30|         35|   N|                Y|BEWARE! Gross yel...|Watch out! I just...| 2015-08-26|\n",
            "|         US|   12120105|R1A4JVOP7N5Q1K|B00XYVEA2Q|     926385357|ARKSEN Portable M...|Major Appliances|          5|           28|         30|   N|                Y|I FELT LIKE A SUC...|I read the negati...| 2015-08-25|\n",
            "|         US|   19227587|R30E25MXKEP9BP|B00D1SZNO6|     315917522|Avanti RA7316PST ...|Major Appliances|          4|           36|         37|   N|                Y|Avanti is good pa...|Arrived really we...| 2015-08-23|\n",
            "|         US|   40023988|R2FMLYX388LR2Y|B0057WCGJ4|     745613395|Bosch 800 Series ...|Major Appliances|          5|           28|         33|   N|                Y|Bosch 800 Series ...|Just got this dis...| 2015-08-22|\n",
            "|         US|   11324103| R1EGFDXPYGROC|B00J8A9S4C|     772573004|Bosch NGM8655UC 8...|Major Appliances|          5|           28|         32|   N|                Y|       Great Cooktop|We bought this to...| 2015-08-22|\n",
            "|         US|   10295660|R2DCZYJZRF0V2O|B00OLUTYKC|     668408812|Wine Enthusiast 2...|Major Appliances|          5|           26|         28|   N|                Y|Handsome and Very...|Handsome, super q...| 2015-08-22|\n",
            "|         US|   36744226|R3QNOR0K43XLWB|B002UYSHMM|     429051224|Haier HLP21N Puls...|Major Appliances|          5|           41|         41|   N|                N|Great Washer for ...|This is great, qu...| 2015-08-21|\n",
            "|         US|   48114567| RPNUNJJZLD11P|B00GXH8QDW|     114997886|LG H/E Ultra Larg...|Major Appliances|          1|           26|         27|   N|                N|It is too soon to...|I purchased this ...| 2015-08-21|\n",
            "|         US|   19603551|R39VRWWZWAHBPH|B010CE497I|     607780698|Haier HC27SW20RV ...|Major Appliances|          1|           15|         21|   N|                Y|            One Star|Very disappointed...| 2015-08-21|\n",
            "|         US|     877297| RU7XNN9EC8V8X|B00N1XAVDY|     845333501|NewAir CC-100 250...|Major Appliances|          1|           31|         36|   N|                Y|Really bad produc...|Simply the worst ...| 2015-08-21|\n",
            "+-----------+-----------+--------------+----------+--------------+--------------------+----------------+-----------+-------------+-----------+----+-----------------+--------------------+--------------------+-----------+\n",
            "only showing top 20 rows\n",
            "\n"
          ]
        }
      ]
    },
    {
      "cell_type": "code",
      "source": [
        "#filter df1 to retrieve all rows where helpful_votes divided by total_votes >= 50%\n",
        "df2 = df1.filter((df1.helpful_votes / df1.total_votes) >= 0.5)\n",
        "df2.show()"
      ],
      "metadata": {
        "colab": {
          "base_uri": "https://localhost:8080/"
        },
        "id": "_QOBBBM7SkbB",
        "outputId": "06fa3856-7aff-4b40-abab-b82440e82748"
      },
      "execution_count": 7,
      "outputs": [
        {
          "output_type": "stream",
          "name": "stdout",
          "text": [
            "+-----------+-----------+--------------+----------+--------------+--------------------+----------------+-----------+-------------+-----------+----+-----------------+--------------------+--------------------+-----------+\n",
            "|marketplace|customer_id|     review_id|product_id|product_parent|       product_title|product_category|star_rating|helpful_votes|total_votes|vine|verified_purchase|     review_headline|         review_body|review_date|\n",
            "+-----------+-----------+--------------+----------+--------------+--------------------+----------------+-----------+-------------+-----------+----+-----------------+--------------------+--------------------+-----------+\n",
            "|         US|   36792525|R3BC75VKJK6LNV|B00RL014P2|       6980707|The Laundry Alter...|Major Appliances|          4|           83|         89|   N|                Y|Warning! Long Rev...|Where do I begin?...| 2015-08-31|\n",
            "|         US|   13254956| R5XKK92G5N9FU|B00EM2JPLW|     824392206|Samsung NE58F9500...|Major Appliances|          1|           18|         22|   N|                N|FIRE HAZARD - AVO...|FIRE HAZARD - AVO...| 2015-08-30|\n",
            "|         US|   50791387| RYMOWYW38WKOB|B00UI18U08|     846535709|LG LMXC23746S 23 ...|Major Appliances|          5|           35|         35|   N|                N|pleasant surprise...|Bought this fridg...| 2015-08-30|\n",
            "|         US|   48688660| RYHZAVESD0T37|B00IY7B5CS|     874236579|Avalon Bay Portab...|Major Appliances|          1|           39|         45|   N|                Y|             Wet ice|I really wanted t...| 2015-08-29|\n",
            "|         US|   47079055|R19Y5VBOF3BQOG|B010CE497I|     607780698|Haier HC27SW20RV ...|Major Appliances|          1|           26|         35|   N|                Y|        Product swap|It just arrived a...| 2015-08-29|\n",
            "|         US|   42769135| R8V9F3139Z1WZ|B00OI05EKE|     381662962|GE GSE25HMHES 36\"...|Major Appliances|          1|           30|         34|   N|                N|SHAME ON GE, low ...|STAY AWAY from GE...| 2015-08-29|\n",
            "|         US|   51579138|R3RNY5OLY451GS|B00LIAP2ZY|     545041103|LG WM3997HWA Vent...|Major Appliances|          1|           25|         30|   N|                Y|Drying did not work.|I really wanted t...| 2015-08-28|\n",
            "|         US|   13663272|R16LPVYSJOAH1T|B00MHY0B9C|     144125671|DMAFRIGFGID2466QF...|Major Appliances|          1|           20|         20|   N|                N|Broke in the firs...|This appliance is...| 2015-08-27|\n",
            "|         US|   25345755|R2NLL7ISMM5QYQ|B00E8KC36M|     754165796|Kitchen Bath Coll...|Major Appliances|          4|           89|         94|   N|                Y|  We love it, but...|When it arrived, ...| 2015-08-27|\n",
            "|         US|   52082261|R3FAFI6Q0YL37W|B00KJ07SEM|     313983847|GE MWF SmartWater...|Major Appliances|          1|           30|         35|   N|                Y|BEWARE! Gross yel...|Watch out! I just...| 2015-08-26|\n",
            "|         US|   12120105|R1A4JVOP7N5Q1K|B00XYVEA2Q|     926385357|ARKSEN Portable M...|Major Appliances|          5|           28|         30|   N|                Y|I FELT LIKE A SUC...|I read the negati...| 2015-08-25|\n",
            "|         US|   19227587|R30E25MXKEP9BP|B00D1SZNO6|     315917522|Avanti RA7316PST ...|Major Appliances|          4|           36|         37|   N|                Y|Avanti is good pa...|Arrived really we...| 2015-08-23|\n",
            "|         US|   40023988|R2FMLYX388LR2Y|B0057WCGJ4|     745613395|Bosch 800 Series ...|Major Appliances|          5|           28|         33|   N|                Y|Bosch 800 Series ...|Just got this dis...| 2015-08-22|\n",
            "|         US|   11324103| R1EGFDXPYGROC|B00J8A9S4C|     772573004|Bosch NGM8655UC 8...|Major Appliances|          5|           28|         32|   N|                Y|       Great Cooktop|We bought this to...| 2015-08-22|\n",
            "|         US|   10295660|R2DCZYJZRF0V2O|B00OLUTYKC|     668408812|Wine Enthusiast 2...|Major Appliances|          5|           26|         28|   N|                Y|Handsome and Very...|Handsome, super q...| 2015-08-22|\n",
            "|         US|   36744226|R3QNOR0K43XLWB|B002UYSHMM|     429051224|Haier HLP21N Puls...|Major Appliances|          5|           41|         41|   N|                N|Great Washer for ...|This is great, qu...| 2015-08-21|\n",
            "|         US|   48114567| RPNUNJJZLD11P|B00GXH8QDW|     114997886|LG H/E Ultra Larg...|Major Appliances|          1|           26|         27|   N|                N|It is too soon to...|I purchased this ...| 2015-08-21|\n",
            "|         US|   19603551|R39VRWWZWAHBPH|B010CE497I|     607780698|Haier HC27SW20RV ...|Major Appliances|          1|           15|         21|   N|                Y|            One Star|Very disappointed...| 2015-08-21|\n",
            "|         US|     877297| RU7XNN9EC8V8X|B00N1XAVDY|     845333501|NewAir CC-100 250...|Major Appliances|          1|           31|         36|   N|                Y|Really bad produc...|Simply the worst ...| 2015-08-21|\n",
            "|         US|    7008877|R2ZU7AC8QSDUOB|B00KVRA6YW|     678523534|SPT RF-314SS Doub...|Major Appliances|          4|           41|         44|   N|                Y| Buy extra ice trays|Bought this mini ...| 2015-08-20|\n",
            "+-----------+-----------+--------------+----------+--------------+--------------------+----------------+-----------+-------------+-----------+----+-----------------+--------------------+--------------------+-----------+\n",
            "only showing top 20 rows\n",
            "\n"
          ]
        }
      ]
    },
    {
      "cell_type": "code",
      "source": [
        "#filter df2 for paid reviews\n",
        "df_paid_reviews = df2.filter(df2.vine == 'Y')\n",
        "df_paid_reviews.show()"
      ],
      "metadata": {
        "colab": {
          "base_uri": "https://localhost:8080/"
        },
        "id": "WWn3Avw8Tk2z",
        "outputId": "6c0b24c2-6fd5-44f5-9aa9-b8d25d92e428"
      },
      "execution_count": 8,
      "outputs": [
        {
          "output_type": "stream",
          "name": "stdout",
          "text": [
            "+-----------+-----------+--------------+----------+--------------+--------------------+----------------+-----------+-------------+-----------+----+-----------------+--------------------+--------------------+-----------+\n",
            "|marketplace|customer_id|     review_id|product_id|product_parent|       product_title|product_category|star_rating|helpful_votes|total_votes|vine|verified_purchase|     review_headline|         review_body|review_date|\n",
            "+-----------+-----------+--------------+----------+--------------+--------------------+----------------+-----------+-------------+-----------+----+-----------------+--------------------+--------------------+-----------+\n",
            "|         US|   31302915|R20O97P5V9CZ21|B00P7QI4IM|     901651668|Whynter BR-130SB ...|Major Appliances|          3|           21|         27|   Y|                N|Nice but had some...|I was very excite...| 2015-06-07|\n",
            "|         US|   38320678| RCNB7YGLWKCV5|B00NQFSSWS|     692404913|Samsung Counter T...|Major Appliances|          5|           23|         30|   Y|                N|You wouldn't micr...|I never would hav...| 2015-02-02|\n",
            "|         US|   53035876| RX1ZUVGBH3HKC|B00NQFSSWS|     692404913|Samsung Counter T...|Major Appliances|          5|          814|        848|   Y|                N|THE WORLD'S MOST ...|I've written quit...| 2015-01-19|\n",
            "|         US|   52682179| RRS5AGL10DYU3|B00NN136NQ|     464779766|Samsung MC11H6033...|Major Appliances|          3|           25|         29|   Y|                N|Not bad, but fell...|I have mixed feel...| 2015-01-14|\n",
            "|         US|   47914576| R5YFC5G8V2B3I|B00NQFSSWS|     692404913|Samsung Counter T...|Major Appliances|          5|          104|        117|   Y|                N|This Combination ...|Is a combination ...| 2015-01-12|\n",
            "|         US|   52862683|R1IDQ0G1S7J9TN|B00NQFSSWS|     692404913|Samsung Counter T...|Major Appliances|          5|          178|        196|   Y|                N|Awesome grill + m...|[[VIDEOID:26e2998...| 2015-01-11|\n",
            "|         US|   51401810| RKXNZX22HQZEE|B00NN136NQ|     464779766|Samsung MC11H6033...|Major Appliances|          3|          182|        192|   Y|                N|Takes your chef s...|I’m always leery ...| 2015-01-08|\n",
            "|         US|   39699233|R2K45IY0NO70ZI|B00NN136NQ|     464779766|Samsung MC11H6033...|Major Appliances|          5|          116|        122|   Y|                N|Awesome Convectio...|Before this micro...| 2015-01-01|\n",
            "|         US|   47233680| RQXRI4UKDX877|B00M7GMEYK|     350114849|             Whynter|Major Appliances|          5|           20|         24|   Y|                N|Great small freez...|This is a perfect...| 2014-10-24|\n",
            "|         US|   51302590|R1L2R8OHO171YG|B00M7GMEYK|     350114849|             Whynter|Major Appliances|          5|           66|         68|   Y|                N|Lots of things to...|Like all things, ...| 2014-10-10|\n",
            "|         US|   51286530|R15NQCQUNOSI4U|B00EWDALK0|      52868775|Whynter MRF-310DB...|Major Appliances|          4|           19|         22|   Y|                N|Cool Space-saving...|This is a wonderf...| 2013-11-25|\n",
            "|         US|   33107350|R37J6VNSC5TZVS|B005XAM44W|     920442298|NewAir AWC-270E 2...|Major Appliances|          4|           19|         22|   Y|                N|5-star aesthetics...|[[VIDEOID:mo1PZ46...| 2013-11-18|\n",
            "|         US|   28566325|R3F1V21FOEIEKN|B00CQ1O3NG|     601997392|Whynter 20 Bottle...|Major Appliances|          4|           30|         33|   Y|                N|A little loud, bu...|I've been using m...| 2013-10-30|\n",
            "|         US|   28566325|R2SQ2O06PRCM9D|B00EWDALK0|      52868775|Whynter MRF-310DB...|Major Appliances|          5|           28|         31|   Y|                N|A super little wo...|I admit it, I tho...| 2013-10-30|\n",
            "|         US|   52896178| RX7QEPPDUZLO7|B00CQ1O3NG|     601997392|Whynter 20 Bottle...|Major Appliances|          4|           18|         20|   Y|                N|Cool and compact ...|A wine refrigerat...| 2013-10-26|\n",
            "|         US|   52801489|R1B3OGO36CJKDA|B005XAM44W|     920442298|NewAir AWC-270E 2...|Major Appliances|          5|           15|         20|   Y|                Y|Works Well and Lo...|This NewAir wine ...| 2013-10-02|\n",
            "|         US|   43335941|R2SIOD5SIH2LJN|B001DI4UYA|     455062034|NewAir AW-210ED S...|Major Appliances|          4|           25|         31|   Y|                N|Sleek, convenient...|I realize other c...| 2013-08-15|\n",
            "|         US|   50699505| R9J3GG1IL1KWC|B008RL4OCY|     726642495|NewAir AI-215SS P...|Major Appliances|          5|          158|        164|   Y|                N|This is a perfect...|I absolutely love...| 2013-06-28|\n",
            "|         US|   52760989| RPGPLUGTQP80H|B007P4WD4A|     322676334|Amana 6.5 cu. ft....|Major Appliances|          4|           17|         20|   Y|                N|A Fast Working, E...|Drying clothes is...| 2012-06-05|\n",
            "|         US|   33107350|R2ACH3HF5VUWGD|B00702RU5E|     987465727|Amana Tall Tub Di...|Major Appliances|          4|           76|         78|   Y|                N|Definitely worth ...|To help put my re...| 2012-05-26|\n",
            "+-----------+-----------+--------------+----------+--------------+--------------------+----------------+-----------+-------------+-----------+----+-----------------+--------------------+--------------------+-----------+\n",
            "only showing top 20 rows\n",
            "\n"
          ]
        }
      ]
    },
    {
      "cell_type": "code",
      "source": [
        "#filter df2 for unpaid reviews\n",
        "df_unpaid_reviews = df2.filter(df2.vine == 'N')\n",
        "df_unpaid_reviews.show()"
      ],
      "metadata": {
        "colab": {
          "base_uri": "https://localhost:8080/"
        },
        "id": "ABvfyoFxT9v3",
        "outputId": "b2069174-f2aa-44ff-d263-b38409ed5930"
      },
      "execution_count": 9,
      "outputs": [
        {
          "output_type": "stream",
          "name": "stdout",
          "text": [
            "+-----------+-----------+--------------+----------+--------------+--------------------+----------------+-----------+-------------+-----------+----+-----------------+--------------------+--------------------+-----------+\n",
            "|marketplace|customer_id|     review_id|product_id|product_parent|       product_title|product_category|star_rating|helpful_votes|total_votes|vine|verified_purchase|     review_headline|         review_body|review_date|\n",
            "+-----------+-----------+--------------+----------+--------------+--------------------+----------------+-----------+-------------+-----------+----+-----------------+--------------------+--------------------+-----------+\n",
            "|         US|   36792525|R3BC75VKJK6LNV|B00RL014P2|       6980707|The Laundry Alter...|Major Appliances|          4|           83|         89|   N|                Y|Warning! Long Rev...|Where do I begin?...| 2015-08-31|\n",
            "|         US|   13254956| R5XKK92G5N9FU|B00EM2JPLW|     824392206|Samsung NE58F9500...|Major Appliances|          1|           18|         22|   N|                N|FIRE HAZARD - AVO...|FIRE HAZARD - AVO...| 2015-08-30|\n",
            "|         US|   50791387| RYMOWYW38WKOB|B00UI18U08|     846535709|LG LMXC23746S 23 ...|Major Appliances|          5|           35|         35|   N|                N|pleasant surprise...|Bought this fridg...| 2015-08-30|\n",
            "|         US|   48688660| RYHZAVESD0T37|B00IY7B5CS|     874236579|Avalon Bay Portab...|Major Appliances|          1|           39|         45|   N|                Y|             Wet ice|I really wanted t...| 2015-08-29|\n",
            "|         US|   47079055|R19Y5VBOF3BQOG|B010CE497I|     607780698|Haier HC27SW20RV ...|Major Appliances|          1|           26|         35|   N|                Y|        Product swap|It just arrived a...| 2015-08-29|\n",
            "|         US|   42769135| R8V9F3139Z1WZ|B00OI05EKE|     381662962|GE GSE25HMHES 36\"...|Major Appliances|          1|           30|         34|   N|                N|SHAME ON GE, low ...|STAY AWAY from GE...| 2015-08-29|\n",
            "|         US|   51579138|R3RNY5OLY451GS|B00LIAP2ZY|     545041103|LG WM3997HWA Vent...|Major Appliances|          1|           25|         30|   N|                Y|Drying did not work.|I really wanted t...| 2015-08-28|\n",
            "|         US|   13663272|R16LPVYSJOAH1T|B00MHY0B9C|     144125671|DMAFRIGFGID2466QF...|Major Appliances|          1|           20|         20|   N|                N|Broke in the firs...|This appliance is...| 2015-08-27|\n",
            "|         US|   25345755|R2NLL7ISMM5QYQ|B00E8KC36M|     754165796|Kitchen Bath Coll...|Major Appliances|          4|           89|         94|   N|                Y|  We love it, but...|When it arrived, ...| 2015-08-27|\n",
            "|         US|   52082261|R3FAFI6Q0YL37W|B00KJ07SEM|     313983847|GE MWF SmartWater...|Major Appliances|          1|           30|         35|   N|                Y|BEWARE! Gross yel...|Watch out! I just...| 2015-08-26|\n",
            "|         US|   12120105|R1A4JVOP7N5Q1K|B00XYVEA2Q|     926385357|ARKSEN Portable M...|Major Appliances|          5|           28|         30|   N|                Y|I FELT LIKE A SUC...|I read the negati...| 2015-08-25|\n",
            "|         US|   19227587|R30E25MXKEP9BP|B00D1SZNO6|     315917522|Avanti RA7316PST ...|Major Appliances|          4|           36|         37|   N|                Y|Avanti is good pa...|Arrived really we...| 2015-08-23|\n",
            "|         US|   40023988|R2FMLYX388LR2Y|B0057WCGJ4|     745613395|Bosch 800 Series ...|Major Appliances|          5|           28|         33|   N|                Y|Bosch 800 Series ...|Just got this dis...| 2015-08-22|\n",
            "|         US|   11324103| R1EGFDXPYGROC|B00J8A9S4C|     772573004|Bosch NGM8655UC 8...|Major Appliances|          5|           28|         32|   N|                Y|       Great Cooktop|We bought this to...| 2015-08-22|\n",
            "|         US|   10295660|R2DCZYJZRF0V2O|B00OLUTYKC|     668408812|Wine Enthusiast 2...|Major Appliances|          5|           26|         28|   N|                Y|Handsome and Very...|Handsome, super q...| 2015-08-22|\n",
            "|         US|   36744226|R3QNOR0K43XLWB|B002UYSHMM|     429051224|Haier HLP21N Puls...|Major Appliances|          5|           41|         41|   N|                N|Great Washer for ...|This is great, qu...| 2015-08-21|\n",
            "|         US|   48114567| RPNUNJJZLD11P|B00GXH8QDW|     114997886|LG H/E Ultra Larg...|Major Appliances|          1|           26|         27|   N|                N|It is too soon to...|I purchased this ...| 2015-08-21|\n",
            "|         US|   19603551|R39VRWWZWAHBPH|B010CE497I|     607780698|Haier HC27SW20RV ...|Major Appliances|          1|           15|         21|   N|                Y|            One Star|Very disappointed...| 2015-08-21|\n",
            "|         US|     877297| RU7XNN9EC8V8X|B00N1XAVDY|     845333501|NewAir CC-100 250...|Major Appliances|          1|           31|         36|   N|                Y|Really bad produc...|Simply the worst ...| 2015-08-21|\n",
            "|         US|    7008877|R2ZU7AC8QSDUOB|B00KVRA6YW|     678523534|SPT RF-314SS Doub...|Major Appliances|          4|           41|         44|   N|                Y| Buy extra ice trays|Bought this mini ...| 2015-08-20|\n",
            "+-----------+-----------+--------------+----------+--------------+--------------------+----------------+-----------+-------------+-----------+----+-----------------+--------------------+--------------------+-----------+\n",
            "only showing top 20 rows\n",
            "\n"
          ]
        }
      ]
    },
    {
      "cell_type": "code",
      "source": [
        "#Total number of paid reviews\n",
        "total_paid_reviews = df_paid_reviews.count()\n",
        "total_paid_reviews"
      ],
      "metadata": {
        "colab": {
          "base_uri": "https://localhost:8080/"
        },
        "id": "jh6u20IQUV6p",
        "outputId": "044eca46-2062-4f9c-eb4f-cc034c053bc0"
      },
      "execution_count": 10,
      "outputs": [
        {
          "output_type": "execute_result",
          "data": {
            "text/plain": [
              "35"
            ]
          },
          "metadata": {},
          "execution_count": 10
        }
      ]
    },
    {
      "cell_type": "code",
      "source": [
        "#Total number of unpaid reviews\n",
        "total_unpaid_reviews = df_unpaid_reviews.count()\n",
        "total_unpaid_reviews"
      ],
      "metadata": {
        "colab": {
          "base_uri": "https://localhost:8080/"
        },
        "id": "dlIv8BynUuy5",
        "outputId": "2fe0630d-ae05-4f76-b807-16c2ea6e2945"
      },
      "execution_count": 11,
      "outputs": [
        {
          "output_type": "execute_result",
          "data": {
            "text/plain": [
              "4957"
            ]
          },
          "metadata": {},
          "execution_count": 11
        }
      ]
    },
    {
      "cell_type": "code",
      "source": [
        "#Total num of 5 star paid reviews\n",
        "total_paid_5_star = df_paid_reviews.filter(df_paid_reviews.star_rating == 5).count()\n",
        "total_paid_5_star"
      ],
      "metadata": {
        "colab": {
          "base_uri": "https://localhost:8080/"
        },
        "id": "KPtK3fukU60u",
        "outputId": "d7368ac5-42a7-4a9c-d557-9c0ddba11d9a"
      },
      "execution_count": 12,
      "outputs": [
        {
          "output_type": "execute_result",
          "data": {
            "text/plain": [
              "18"
            ]
          },
          "metadata": {},
          "execution_count": 12
        }
      ]
    },
    {
      "cell_type": "code",
      "source": [
        "#Total num of 5 star unpaid reviews\n",
        "total_unpaid_5_star = df_unpaid_reviews.filter(df_unpaid_reviews.star_rating == 5).count()\n",
        "total_unpaid_5_star"
      ],
      "metadata": {
        "colab": {
          "base_uri": "https://localhost:8080/"
        },
        "id": "bzbHJBb2VgNj",
        "outputId": "9a59e07a-bc91-479b-d6a4-05a5d778b44f"
      },
      "execution_count": 14,
      "outputs": [
        {
          "output_type": "execute_result",
          "data": {
            "text/plain": [
              "1963"
            ]
          },
          "metadata": {},
          "execution_count": 14
        }
      ]
    },
    {
      "cell_type": "code",
      "source": [
        "# Percentage paid 5 star reviews\n",
        "percent_paid_5_star = (total_paid_5_star / total_paid_reviews)\n",
        "percent_paid_5_star"
      ],
      "metadata": {
        "colab": {
          "base_uri": "https://localhost:8080/"
        },
        "id": "ZD401X9dV0wE",
        "outputId": "e4da7d5f-82f3-46d3-f551-b5c40a5fa9eb"
      },
      "execution_count": 15,
      "outputs": [
        {
          "output_type": "execute_result",
          "data": {
            "text/plain": [
              "0.5142857142857142"
            ]
          },
          "metadata": {},
          "execution_count": 15
        }
      ]
    },
    {
      "cell_type": "code",
      "source": [
        "# Percentage unpaid 5 star reviews\n",
        "percent_unpaid_5_star = (total_unpaid_5_star / total_unpaid_reviews)\n",
        "percent_unpaid_5_star"
      ],
      "metadata": {
        "colab": {
          "base_uri": "https://localhost:8080/"
        },
        "id": "QDBItSIAWMGf",
        "outputId": "c975f52f-6513-4889-fab1-4690c17f86a6"
      },
      "execution_count": 16,
      "outputs": [
        {
          "output_type": "execute_result",
          "data": {
            "text/plain": [
              "0.3960056485777688"
            ]
          },
          "metadata": {},
          "execution_count": 16
        }
      ]
    }
  ]
}